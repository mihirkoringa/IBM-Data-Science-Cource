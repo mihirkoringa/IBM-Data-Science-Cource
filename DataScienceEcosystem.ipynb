{
 "cells": [
  {
   "cell_type": "markdown",
   "id": "77c61be5-30ae-44f6-a3a8-3f4814caa0fe",
   "metadata": {},
   "source": [
    "# Data Science Tools and Echosystem\n"
   ]
  },
  {
   "cell_type": "markdown",
   "id": "44918d38-76d6-4035-9e45-cba864b09c59",
   "metadata": {},
   "source": [
    "In this notebook, Data Science Tools and Ecosystem are summarized."
   ]
  },
  {
   "cell_type": "markdown",
   "id": "63831321-7ba6-4461-8cfa-a7e5f735918f",
   "metadata": {},
   "source": [
    "Some of the popular languages that Data Scientists use are: \n",
    "1. Python\n",
    "2. R\n",
    "3. Java"
   ]
  },
  {
   "cell_type": "markdown",
   "id": "4794eec8-7e53-48e3-9cfe-63e677aa3b6a",
   "metadata": {},
   "source": [
    "Some of the commonly used libaries used by Data Scientists include:\n",
    "1. Pandas\n",
    "2. Numpy\n",
    "3. Matplotlib\n",
    "4. TensorFlow"
   ]
  },
  {
   "cell_type": "markdown",
   "id": "b46fcee4-7388-4096-838f-b67401b9ac0d",
   "metadata": {},
   "source": [
    "|Data Science Tool|\n",
    "|-----------------|\n",
    "|Apache Spark|\n",
    "|Julia|\n",
    "|py torch|"
   ]
  },
  {
   "cell_type": "markdown",
   "id": "fc0e8936-01b2-4093-a5d4-31dd65591380",
   "metadata": {},
   "source": [
    "### Below are a few examples of evaluating arithmetic expressions in Python"
   ]
  },
  {
   "cell_type": "code",
   "execution_count": 6,
   "id": "6189b82c-8df6-4fff-ac11-566f486e66f2",
   "metadata": {},
   "outputs": [
    {
     "data": {
      "text/plain": [
       "17"
      ]
     },
     "execution_count": 6,
     "metadata": {},
     "output_type": "execute_result"
    }
   ],
   "source": [
    "# This a simple arithmetic expression to mutiply then add integers\n",
    "(3*4)+5"
   ]
  },
  {
   "cell_type": "code",
   "execution_count": 7,
   "id": "1e3cd220-d0e0-40c9-9ae9-8871d06c4420",
   "metadata": {},
   "outputs": [
    {
     "data": {
      "text/plain": [
       "3"
      ]
     },
     "execution_count": 7,
     "metadata": {},
     "output_type": "execute_result"
    }
   ],
   "source": [
    "# This will convert 200 minutes to hours by diving by 60\n",
    "200//60"
   ]
  },
  {
   "cell_type": "markdown",
   "id": "726e31dd-dba2-4404-b989-533dbee7a23d",
   "metadata": {},
   "source": [
    "**Objectives:**"
   ]
  },
  {
   "cell_type": "markdown",
   "id": "dea02eab-99c9-421c-90ee-b4f2523dc458",
   "metadata": {},
   "source": [
    "* List of popular languages for Data Science.\n",
    "* List of commonly used Data Science libraries\n",
    "* Arithmetic expressions\n",
    "* Expression to convert minutes into hours\n",
    "* List of Data Science tools"
   ]
  },
  {
   "cell_type": "markdown",
   "id": "11af61e3-6abb-4b57-ba1f-0c6ed407f309",
   "metadata": {},
   "source": [
    "## Author\n",
    "Mihir Koringa"
   ]
  },
  {
   "cell_type": "code",
   "execution_count": null,
   "id": "3ef2b734-23e0-4f15-b420-b6bd63634853",
   "metadata": {},
   "outputs": [],
   "source": []
  }
 ],
 "metadata": {
  "kernelspec": {
   "display_name": "Python 3 (ipykernel)",
   "language": "python",
   "name": "python3"
  },
  "language_info": {
   "codemirror_mode": {
    "name": "ipython",
    "version": 3
   },
   "file_extension": ".py",
   "mimetype": "text/x-python",
   "name": "python",
   "nbconvert_exporter": "python",
   "pygments_lexer": "ipython3",
   "version": "3.10.0"
  }
 },
 "nbformat": 4,
 "nbformat_minor": 5
}
